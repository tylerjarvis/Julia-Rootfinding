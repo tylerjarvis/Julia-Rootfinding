{
 "cells": [
  {
   "cell_type": "markdown",
   "metadata": {},
   "source": [
    "<h1 align=\"center\"> Julia YRoots Demo </h1>\n",
    "\n",
    "YRoots is a numerical rootfinding package that quickly and precisely finds and returns all of the real roots of a system of equations in a compact interval in $\\mathbb{R}^n$.\n",
    "\n",
    "This demo notebook illustrates the power of YRoots in solving particularly challenging rootfinding problems. To get started, make sure you have installed YRoots (see the tutorial to learn how) and then run the following import statements:"
   ]
  },
  {
   "cell_type": "code",
   "execution_count": null,
   "metadata": {},
   "outputs": [],
   "source": [
    "include(\"src/CombinedSolver.jl\")\n"
   ]
  },
  {
   "cell_type": "markdown",
   "metadata": {},
   "source": [
    "## Example 1:\n",
    "\n",
    "Here is a system of equations on the search domain $[-1,1]\\times[-1,1]$ discussed in [a published paper](https://link.springer.com/article/10.1007/s00211-014-0635-z).\n",
    "\n",
    "$$f(x,y) =\\sin(30x−y/30)+y$$\n",
    "$$g(x,y) =\\cos(x/30−30y)−x$$\n",
    "\n",
    "Try running solve on this system using the code below.\n",
    "\n",
    "NOTE: Due to the use of just in time compiling, the very first time the solver is called after being imported, the compilation may take several seconds before the solver actually begins to run. To see the true speed of the solver, simply run the code again. This second iteration, and any other subsequent calls to the solver with systems of equations of the same dimension, will run at the true speed after this first compilation."
   ]
  },
  {
   "cell_type": "code",
   "execution_count": null,
   "metadata": {},
   "outputs": [],
   "source": [
    "f = (x,y) -> sin(30*x-y/30)+y\n",
    "g = (x,y) -> cos(x/30-30*y)-x\n",
    "\n",
    "a = [-1,-1] # lower bounds of search domain\n",
    "b = [1,1] # upper bounds of search domain\n",
    "\n",
    "roots =  solve([f,g], a, b; verbose=true)\n",
    "\n",
    "print(roots)\n",
    "\n",
    "# print(\"Maximal residual for f is\")\n",
    "# max(abs.(f(roots[1],roots[2]))\n",
    "# print(\"Maximal residual for g is format(np.max(np.abs(f(roots[:,0],roots[:,1]))),np.max(np.abs(g(roots[:,0],roots[:,1])))))"
   ]
  },
  {
   "cell_type": "code",
   "execution_count": null,
   "metadata": {},
   "outputs": [],
   "source": [
    "# using Pkg\n",
    "# Pkg.instantiate()\n",
    "# using Profile\n",
    "# using PProf\n",
    "\n",
    "f = (x,y,z) -> x^2 -1.28*y*z + .256*x^2*z^3\n",
    "g = (x,y,z) -> 0.28*y^4 -.314*x*y*z^2\n",
    "h = (x,y,z) -> .2*y*z + .416*x*y +.83*z -.2\n",
    "a = [-1.,-1,-1]\n",
    "b = [1.,1,1]\n",
    "solve([f,g,h],a,b)"
   ]
  }
 ],
 "metadata": {
  "kernelspec": {
   "display_name": "Julia 1.11.0",
   "language": "julia",
   "name": "julia-1.11"
  },
  "language_info": {
   "file_extension": ".jl",
   "mimetype": "application/julia",
   "name": "julia",
   "version": "1.11.0"
  }
 },
 "nbformat": 4,
 "nbformat_minor": 2
}
